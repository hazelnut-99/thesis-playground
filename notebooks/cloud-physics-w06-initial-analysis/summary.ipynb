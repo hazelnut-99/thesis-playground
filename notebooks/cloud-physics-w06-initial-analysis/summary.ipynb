{
 "cells": [
  {
   "cell_type": "markdown",
   "id": "140838f3",
   "metadata": {},
   "source": [
    "cloud physics w06 trace </br>\n",
    "previous result from Helen: [link](https://docs.google.com/presentation/d/1zOku2GGENCgIBnQiup4ztoJA6Y8QOIqSLE_5oD5WDjc/edit#slide=id.g2e7f6358091_0_0)"
   ]
  },
  {
   "cell_type": "code",
   "execution_count": 33,
   "id": "1b118412",
   "metadata": {},
   "outputs": [],
   "source": [
    "import pandas as pd\n",
    "import plotly.express as px\n",
    "import plotly.offline as pyo\n",
    "\n",
    "df = pd.read_csv('result.csv')"
   ]
  },
  {
   "cell_type": "code",
   "execution_count": 34,
   "id": "eaddbb08",
   "metadata": {},
   "outputs": [],
   "source": [
    "df['missRatio'] = df['numCacheGetMisses'] / df['numCacheGet']"
   ]
  },
  {
   "cell_type": "code",
   "execution_count": 35,
   "id": "6f8170fa",
   "metadata": {},
   "outputs": [
    {
     "data": {
      "text/html": [
       "<iframe\n",
       "    scrolling=\"no\"\n",
       "    width=\"100%\"\n",
       "    height=\"545px\"\n",
       "    src=\"iframe_figures/figure_35.html\"\n",
       "    frameborder=\"0\"\n",
       "    allowfullscreen\n",
       "></iframe>\n"
      ]
     },
     "metadata": {},
     "output_type": "display_data"
    }
   ],
   "source": [
    "df[\"cacheSizeMB\"] = df[\"cacheSizeMB\"].astype(str)  \n",
    "df = df.sort_values(by=\"cacheSizeMB\", key=lambda x: x.astype(int))  \n",
    "\n",
    "fig = px.line(\n",
    "    df,\n",
    "    x=\"cacheSizeMB\",\n",
    "    y=\"missRatio\",\n",
    "    color=\"rebalanceStrategy\",\n",
    "    line_dash=\"allocator\",\n",
    "    markers=True,\n",
    "    symbol=\"allocator\"\n",
    ")\n",
    "\n",
    "fig.update_layout(\n",
    "    title=\"Miss Ratio Curve (cloud physics w06 trace)\",\n",
    "    xaxis_title=\"Cache Size (MB)\",\n",
    "    yaxis_title=\"Miss Ratio\",\n",
    "    legend_title=\"Rebalance Strategy & Allocator\",\n",
    "    xaxis={\"type\": \"category\", \"categoryorder\": \"array\", \"categoryarray\": sorted(df[\"cacheSizeMB\"].unique(), key=int)}\n",
    ")\n",
    "\n",
    "fig.show()"
   ]
  },
  {
   "cell_type": "code",
   "execution_count": null,
   "id": "a5f396ed",
   "metadata": {},
   "outputs": [],
   "source": []
  }
 ],
 "metadata": {
  "kernelspec": {
   "display_name": "Python 3 (ipykernel)",
   "language": "python",
   "name": "python3"
  },
  "language_info": {
   "codemirror_mode": {
    "name": "ipython",
    "version": 3
   },
   "file_extension": ".py",
   "mimetype": "text/x-python",
   "name": "python",
   "nbconvert_exporter": "python",
   "pygments_lexer": "ipython3",
   "version": "3.10.12"
  }
 },
 "nbformat": 4,
 "nbformat_minor": 5
}
