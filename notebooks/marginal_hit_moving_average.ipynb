{
 "cells": [
  {
   "cell_type": "markdown",
   "id": "a7e16be4",
   "metadata": {},
   "source": [
    "### Understand how smooth averaging works in marginal hit rebalance strategy\n",
    "\n",
    "See code at </br>\n",
    "https://github.com/facebook/CacheLib/blob/main/cachelib/allocator/MarginalHitsStrategy.cpp\n",
    "https://github.com/facebook/CacheLib/blob/5a0efb01b453f4c7f2028db4aaf4002450df61ef/cachelib/allocator/MarginalHitsState.h#L86\n",
    "https://github.com/facebook/CacheLib/blob/5a0efb01b453f4c7f2028db4aaf4002450df61ef/cachelib/allocator/MarginalHitsStrategy.h#L33"
   ]
  },
  {
   "cell_type": "code",
   "execution_count": 1,
   "id": "11c13c51",
   "metadata": {},
   "outputs": [],
   "source": [
    "from collections import defaultdict"
   ]
  },
  {
   "cell_type": "code",
   "execution_count": 3,
   "id": "1844a67a",
   "metadata": {},
   "outputs": [],
   "source": [
    "def updateMovingAverage(newValue, movingAverageParam, avg):\n",
    "    return avg * movingAverageParam + newValue * (1 - movingAverageParam)"
   ]
  },
  {
   "cell_type": "code",
   "execution_count": 10,
   "id": "844a2066",
   "metadata": {},
   "outputs": [
    {
     "name": "stdout",
     "output_type": "stream",
     "text": [
      "index: 0 new score: 0.0\n",
      "index: 1 new score: 0.8\n",
      "index: 2 new score: 1.7600000000000002\n",
      "index: 3 new score: 2.7520000000000007\n",
      "index: 4 new score: 3.7504000000000004\n",
      "index: 5 new score: 4.7500800000000005\n",
      "index: 6 new score: 5.7500160000000005\n",
      "index: 7 new score: 6.750003200000001\n",
      "index: 8 new score: 7.7500006400000006\n",
      "index: 9 new score: 8.750000128\n",
      "index: 10 new score: 9.7500000256\n",
      "index: 11 new score: 10.75000000512\n",
      "index: 12 new score: 11.750000001024002\n",
      "index: 13 new score: 12.750000000204802\n",
      "index: 14 new score: 13.750000000040961\n",
      "index: 15 new score: 14.750000000008193\n",
      "index: 16 new score: 15.75000000000164\n",
      "index: 17 new score: 16.75000000000033\n",
      "index: 18 new score: 17.750000000000068\n",
      "index: 19 new score: 18.750000000000014\n",
      "index: 20 new score: 19.750000000000004\n",
      "index: 21 new score: 20.75\n",
      "index: 22 new score: 21.75\n",
      "index: 23 new score: 22.750000000000004\n",
      "index: 24 new score: 23.750000000000004\n",
      "index: 25 new score: 24.75\n",
      "index: 26 new score: 25.75\n",
      "index: 27 new score: 26.75\n",
      "index: 28 new score: 27.750000000000004\n",
      "index: 29 new score: 28.750000000000004\n",
      "index: 30 new score: 29.75\n",
      "index: 31 new score: 30.75\n",
      "index: 32 new score: 31.75\n",
      "index: 33 new score: 32.75\n",
      "index: 34 new score: 33.75\n",
      "index: 35 new score: 34.75\n",
      "index: 36 new score: 35.75\n",
      "index: 37 new score: 36.75\n",
      "index: 38 new score: 37.75\n",
      "index: 39 new score: 38.75\n",
      "index: 40 new score: 39.75\n",
      "index: 41 new score: 40.75000000000001\n",
      "index: 42 new score: 41.75\n",
      "index: 43 new score: 42.75\n",
      "index: 44 new score: 43.75\n",
      "index: 45 new score: 44.75\n",
      "index: 46 new score: 45.75000000000001\n",
      "index: 47 new score: 46.75\n",
      "index: 48 new score: 47.75000000000001\n",
      "index: 49 new score: 48.75000000000001\n"
     ]
    }
   ],
   "source": [
    "smoothedRanks = defaultdict(float)\n",
    "movingAverageParam = 0.2\n",
    "entity_size = 50\n",
    "avg = 0\n",
    "\n",
    "for index in range(entity_size):\n",
    "    avg = updateMovingAverage(index, movingAverageParam, avg)\n",
    "    smoothedRanks[index] = avg\n",
    "\n",
    "for index in range(entity_size):\n",
    "    print(f\"index: {index} new score: {smoothedRanks[index]}\")"
   ]
  },
  {
   "cell_type": "code",
   "execution_count": null,
   "id": "51806628",
   "metadata": {},
   "outputs": [],
   "source": []
  }
 ],
 "metadata": {
  "kernelspec": {
   "display_name": "Python 3 (ipykernel)",
   "language": "python",
   "name": "python3"
  },
  "language_info": {
   "codemirror_mode": {
    "name": "ipython",
    "version": 3
   },
   "file_extension": ".py",
   "mimetype": "text/x-python",
   "name": "python",
   "nbconvert_exporter": "python",
   "pygments_lexer": "ipython3",
   "version": "3.10.12"
  }
 },
 "nbformat": 4,
 "nbformat_minor": 5
}
